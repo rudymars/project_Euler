{
 "cells": [
  {
   "cell_type": "code",
   "execution_count": 7,
   "id": "3be84307",
   "metadata": {},
   "outputs": [
    {
     "name": "stdout",
     "output_type": "stream",
     "text": [
      "78498\n"
     ]
    }
   ],
   "source": [
    "# The prime 41, can be written as the sum of six consecutive primes:\n",
    "# 41 = 2 + 3 + 5 + 7 + 11 + 13\n",
    "# This is the longest sum of consecutive primes that adds to a prime below one-hundred.\n",
    "# The longest sum of consecutive primes below one-thousand that adds to a prime, contains 21 terms, and is equal to 953.\n",
    "# Which prime, below one-million, can be written as the sum of the most consecutive primes?\n",
    "import math\n",
    "\n",
    "max_num = 1000000\n",
    "list_primes=[]\n",
    "\n",
    "def check_prime(nummer):\n",
    "  if nummer == 1:\n",
    "    return False\n",
    "    \n",
    "  is_prime = True  \n",
    "  for i in range(2,int(math.sqrt(nummer)+1)):    \n",
    "    if nummer % i == 0:\n",
    "        is_prime = False\n",
    "  return is_prime\n",
    "\n",
    "for i in range(1,max_num):\n",
    "    if check_prime(i):\n",
    "        list_primes.append(i)\n",
    "        \n",
    "print(len(list_primes))        "
   ]
  }
 ],
 "metadata": {
  "kernelspec": {
   "display_name": "Python 3 (ipykernel)",
   "language": "python",
   "name": "python3"
  },
  "language_info": {
   "codemirror_mode": {
    "name": "ipython",
    "version": 3
   },
   "file_extension": ".py",
   "mimetype": "text/x-python",
   "name": "python",
   "nbconvert_exporter": "python",
   "pygments_lexer": "ipython3",
   "version": "3.11.5"
  }
 },
 "nbformat": 4,
 "nbformat_minor": 5
}
