{
 "cells": [
  {
   "cell_type": "code",
   "execution_count": 106,
   "id": "cc58bd00",
   "metadata": {},
   "outputs": [
    {
     "name": "stdout",
     "output_type": "stream",
     "text": [
      "0\n",
      "Ja 0\n",
      "100000000\n",
      "200000000\n",
      "Ja 232792560\n",
      "300000000\n",
      "400000000\n",
      "Ja 465585120\n",
      "500000000\n",
      "600000000\n",
      "Ja 698377680\n",
      "700000000\n",
      "800000000\n",
      "900000000\n",
      "Ja 931170240\n"
     ]
    },
    {
     "ename": "KeyboardInterrupt",
     "evalue": "",
     "output_type": "error",
     "traceback": [
      "\u001b[1;31m---------------------------------------------------------------------------\u001b[0m",
      "\u001b[1;31mKeyboardInterrupt\u001b[0m                         Traceback (most recent call last)",
      "Cell \u001b[1;32mIn[106], line 20\u001b[0m\n\u001b[0;32m     18\u001b[0m \u001b[38;5;28;01mif\u001b[39;00m (i \u001b[38;5;241m%\u001b[39m show_updates) \u001b[38;5;241m==\u001b[39m \u001b[38;5;241m0\u001b[39m:\n\u001b[0;32m     19\u001b[0m   \u001b[38;5;28mprint\u001b[39m(i)\n\u001b[1;32m---> 20\u001b[0m \u001b[38;5;28;01mif\u001b[39;00m divisible(i) \u001b[38;5;241m==\u001b[39m \u001b[38;5;28;01mTrue\u001b[39;00m:\n\u001b[0;32m     21\u001b[0m   \u001b[38;5;28mprint\u001b[39m(\u001b[38;5;124m\"\u001b[39m\u001b[38;5;124mJa\u001b[39m\u001b[38;5;124m\"\u001b[39m,i)\n",
      "Cell \u001b[1;32mIn[106], line 7\u001b[0m, in \u001b[0;36mdivisible\u001b[1;34m(kandidaat)\u001b[0m\n\u001b[0;32m      6\u001b[0m \u001b[38;5;28;01mdef\u001b[39;00m \u001b[38;5;21mdivisible\u001b[39m(kandidaat):\n\u001b[1;32m----> 7\u001b[0m   \u001b[38;5;28;01mfor\u001b[39;00m i \u001b[38;5;129;01min\u001b[39;00m \u001b[38;5;28mreversed\u001b[39m(\u001b[38;5;28mrange\u001b[39m(\u001b[38;5;241m1\u001b[39m,divisors)):\n\u001b[0;32m      8\u001b[0m     \u001b[38;5;28;01mif\u001b[39;00m kandidaat\u001b[38;5;241m%\u001b[39mi \u001b[38;5;241m!=\u001b[39m \u001b[38;5;241m0\u001b[39m:\n\u001b[0;32m      9\u001b[0m         \u001b[38;5;66;03m#print(i)\u001b[39;00m\n\u001b[0;32m     10\u001b[0m         \u001b[38;5;28;01mreturn\u001b[39;00m \u001b[38;5;28;01mFalse\u001b[39;00m\n",
      "\u001b[1;31mKeyboardInterrupt\u001b[0m: "
     ]
    }
   ],
   "source": [
    "# 2520 is the smallest number that can be divided by each of the numbers from 1 to 10 without any remainder.\n",
    "#What is the smallest positive number that is evenly divisible by all of the numbers  from 1  to 20?\n",
    "\n",
    "divisors = 20\n",
    "\n",
    "def divisible(kandidaat):\n",
    "  for i in reversed(range(1,divisors)):\n",
    "    if kandidaat%i != 0:\n",
    "        #print(i)\n",
    "        return False\n",
    "  return True  \n",
    "\n",
    "max_check = 1000000000\n",
    "show_updates = max_check/10\n",
    "\n",
    "\n",
    "for i in range(0,max_check,divisors):\n",
    "  if (i % show_updates) == 0:\n",
    "    print(i)\n",
    "  if divisible(i) == True:\n",
    "    print(\"Ja\",i)\n",
    "\n",
    "    \n",
    "    \n"
   ]
  }
 ],
 "metadata": {
  "kernelspec": {
   "display_name": "Python 3 (ipykernel)",
   "language": "python",
   "name": "python3"
  },
  "language_info": {
   "codemirror_mode": {
    "name": "ipython",
    "version": 3
   },
   "file_extension": ".py",
   "mimetype": "text/x-python",
   "name": "python",
   "nbconvert_exporter": "python",
   "pygments_lexer": "ipython3",
   "version": "3.11.5"
  }
 },
 "nbformat": 4,
 "nbformat_minor": 5
}
