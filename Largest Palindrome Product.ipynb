{
 "cells": [
  {
   "cell_type": "code",
   "execution_count": 32,
   "id": "15f65011",
   "metadata": {},
   "outputs": [
    {
     "name": "stdout",
     "output_type": "stream",
     "text": [
      "90909\n",
      "580085\n",
      "906609\n"
     ]
    }
   ],
   "source": [
    "#A palindromic number reads the same both ways. \n",
    "#The largest palindrome made from the product of two 2-digit numbers is 9009 = 91x99\n",
    "#Find the largest palindrome made from the product of two 3 digit numbers\n",
    "\n",
    "def is_palindroom(woord):    \n",
    "  palindroom = woord[::-1]\n",
    "  if woord == palindroom:\n",
    "        return True\n",
    "  else:\n",
    "        return False\n",
    "\n",
    "digits = 3\n",
    "max_number = pow(10,digits)\n",
    "max_palindroom = 0\n",
    "for i in reversed(range(1,max_number)):\n",
    "    for n in reversed(range(1,max_number)):\n",
    "        kandidaat = i*n\n",
    "        if is_palindroom(str(kandidaat)) and len(str(kandidaat)) > 1:\n",
    "            if kandidaat > max_palindroom:\n",
    "                max_palindroom = kandidaat\n",
    "                \n",
    "                print(max_palindroom)\n",
    "    "
   ]
  }
 ],
 "metadata": {
  "kernelspec": {
   "display_name": "Python 3 (ipykernel)",
   "language": "python",
   "name": "python3"
  },
  "language_info": {
   "codemirror_mode": {
    "name": "ipython",
    "version": 3
   },
   "file_extension": ".py",
   "mimetype": "text/x-python",
   "name": "python",
   "nbconvert_exporter": "python",
   "pygments_lexer": "ipython3",
   "version": "3.11.5"
  }
 },
 "nbformat": 4,
 "nbformat_minor": 5
}
