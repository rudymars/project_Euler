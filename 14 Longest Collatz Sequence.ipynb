{
 "cells": [
  {
   "cell_type": "code",
   "execution_count": 52,
   "id": "b998ccc2",
   "metadata": {},
   "outputs": [
    {
     "name": "stdout",
     "output_type": "stream",
     "text": [
      "1 4\n",
      "3 8\n",
      "6 9\n",
      "7 17\n",
      "9 20\n",
      "18 21\n",
      "25 24\n",
      "27 112\n",
      "54 113\n",
      "73 116\n",
      "97 119\n",
      "129 122\n",
      "171 125\n",
      "231 128\n",
      "313 131\n",
      "327 144\n",
      "649 145\n",
      "703 171\n",
      "871 179\n",
      "1161 182\n",
      "2223 183\n",
      "2463 209\n",
      "2919 217\n",
      "3711 238\n",
      "6171 262\n",
      "10971 268\n",
      "13255 276\n",
      "17647 279\n",
      "23529 282\n",
      "26623 308\n",
      "34239 311\n",
      "35655 324\n",
      "52527 340\n",
      "77031 351\n",
      "106239 354\n",
      "142587 375\n",
      "156159 383\n",
      "216367 386\n",
      "230631 443\n",
      "410011 449\n",
      "511935 470\n",
      "626331 509\n",
      "837799 525\n"
     ]
    }
   ],
   "source": [
    "#3n + 1\n",
    "#The following iterative sequence is defined for the set of positive integers:\n",
    "#It can be seen that this sequence (starting at 13 and finishing at 1 contains 10 terms. \n",
    "#Which starting number, under one million, produces the longest chain?\n",
    "\n",
    "longest = 0\n",
    "longest_input = 0\n",
    "\n",
    "max_zoeken = 1000000\n",
    "\n",
    "def collatz(input):\n",
    "    trace = []\n",
    "    trede = input\n",
    "    iterations = 0\n",
    "    for i in range(100000):\n",
    "        trace.append(trede)\n",
    "        if trede % 2 == 0:\n",
    "            trede = trede / 2            \n",
    "        else:\n",
    "            trede = (trede * 3) + 1\n",
    "        iterations +=1\n",
    "        \n",
    "        if trede == 1:\n",
    "            trace.append(trede)\n",
    "            return len(trace)\n",
    "\n",
    "\n",
    "for i in range(1,max_zoeken):\n",
    "    if collatz(i) > longest:\n",
    "        longest = collatz(i)\n",
    "        print(i,longest)\n",
    "                    \n",
    "\n",
    "\n",
    "\n",
    "\n",
    "\n"
   ]
  },
  {
   "cell_type": "code",
   "execution_count": null,
   "id": "8b61d29d",
   "metadata": {},
   "outputs": [],
   "source": []
  }
 ],
 "metadata": {
  "kernelspec": {
   "display_name": "Python 3 (ipykernel)",
   "language": "python",
   "name": "python3"
  },
  "language_info": {
   "codemirror_mode": {
    "name": "ipython",
    "version": 3
   },
   "file_extension": ".py",
   "mimetype": "text/x-python",
   "name": "python",
   "nbconvert_exporter": "python",
   "pygments_lexer": "ipython3",
   "version": "3.11.5"
  }
 },
 "nbformat": 4,
 "nbformat_minor": 5
}
