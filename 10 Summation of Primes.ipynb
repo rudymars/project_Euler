{
 "cells": [
  {
   "cell_type": "code",
   "execution_count": 17,
   "id": "ee177dbd",
   "metadata": {},
   "outputs": [
    {
     "name": "stdout",
     "output_type": "stream",
     "text": [
      "200000\n",
      "400000\n",
      "600000\n",
      "800000\n",
      "1000000\n",
      "1200000\n",
      "1400000\n",
      "1600000\n",
      "1800000\n",
      "142913828922\n"
     ]
    }
   ],
   "source": [
    "#The sum of the primes below 10 is 2 + 5 + 3 +7 = 17\n",
    "#Find the sum of all the primes below two million.\n",
    "\n",
    "import math\n",
    "\n",
    "def check_prime(nummer):\n",
    "  if nummer == 1:\n",
    "    return False\n",
    "    \n",
    "  is_prime = True  \n",
    "  for i in range(2,int(math.sqrt(nummer)+1)):    \n",
    "    if nummer % i == 0:\n",
    "        is_prime = False\n",
    "  return is_prime  \n",
    "\n",
    "sumprime = 0\n",
    "max_zoek = 2000000\n",
    "show_updates = max_zoek/10\n",
    "\n",
    "for i in range(1,max_zoek):\n",
    "  if (i % show_updates) == 0:\n",
    "    print(i)      \n",
    "  if check_prime(i):\n",
    "      sumprime += i\n",
    "        \n",
    "print(sumprime)        "
   ]
  }
 ],
 "metadata": {
  "kernelspec": {
   "display_name": "Python 3 (ipykernel)",
   "language": "python",
   "name": "python3"
  },
  "language_info": {
   "codemirror_mode": {
    "name": "ipython",
    "version": 3
   },
   "file_extension": ".py",
   "mimetype": "text/x-python",
   "name": "python",
   "nbconvert_exporter": "python",
   "pygments_lexer": "ipython3",
   "version": "3.11.5"
  }
 },
 "nbformat": 4,
 "nbformat_minor": 5
}
