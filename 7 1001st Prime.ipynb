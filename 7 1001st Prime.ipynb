{
 "cells": [
  {
   "cell_type": "code",
   "execution_count": 20,
   "id": "8f26a4b4",
   "metadata": {},
   "outputs": [
    {
     "name": "stdout",
     "output_type": "stream",
     "text": [
      "done!  104743\n",
      "104743\n"
     ]
    }
   ],
   "source": [
    "#By listing the first six prime numbers: 2,3 ,5 ,7, 11 , 13 we can see the 6th prime is 13\n",
    "#What is the 1001st prime number?\n",
    "\n",
    "import math\n",
    "\n",
    "def check_prime(nummer):\n",
    "  if nummer == 1:\n",
    "    return False\n",
    "    \n",
    "  is_prime = True  \n",
    "  for i in range(2,int(math.sqrt(nummer)+1)):    \n",
    "    if nummer % i == 0:\n",
    "        is_prime = False\n",
    "  return is_prime \n",
    "\n",
    "list_primes = []\n",
    "for i in range(1,300000):\n",
    "    if check_prime(i):\n",
    "        list_primes.append(i)\n",
    "    if len(list_primes) > 10000:\n",
    "        print(\"done! \", i)\n",
    "        break\n",
    "print(list_primes[-1])\n"
   ]
  }
 ],
 "metadata": {
  "kernelspec": {
   "display_name": "Python 3 (ipykernel)",
   "language": "python",
   "name": "python3"
  },
  "language_info": {
   "codemirror_mode": {
    "name": "ipython",
    "version": 3
   },
   "file_extension": ".py",
   "mimetype": "text/x-python",
   "name": "python",
   "nbconvert_exporter": "python",
   "pygments_lexer": "ipython3",
   "version": "3.11.5"
  }
 },
 "nbformat": 4,
 "nbformat_minor": 5
}
