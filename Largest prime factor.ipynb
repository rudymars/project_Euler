{
 "cells": [
  {
   "cell_type": "code",
   "execution_count": 58,
   "id": "7107e09f",
   "metadata": {},
   "outputs": [
    {
     "name": "stdout",
     "output_type": "stream",
     "text": [
      "71\n",
      "839\n",
      "1471\n",
      "6857\n",
      "Largest prime factors is: 6857\n"
     ]
    }
   ],
   "source": [
    "#The prime factors of 13195 are 5, 7 , 13, 29.\n",
    "#What is the largest prime factor of the number 600851475143?\n",
    "import math\n",
    "\n",
    "def check_prime(nummer):\n",
    "  if nummer == 1 or nummer == 2:\n",
    "    return False\n",
    "    \n",
    "  is_prime = True  \n",
    "  for i in range(2,int(math.sqrt(nummer)+1)):    \n",
    "    if nummer % i == 0:\n",
    "        is_prime = False\n",
    "  return is_prime  \n",
    "\n",
    "\n",
    "#Check prime factors\n",
    "#Ziek inefficient, elke keer opnieuw priemgetallen berekenen...\n",
    "\n",
    "number_to_check = 600851475143\n",
    "largest_prime_factor = 0\n",
    "for i in range(1,int(math.sqrt(number_to_check)+1)):\n",
    "    if check_prime(i) and number_to_check%i == 0:\n",
    "        print(i)\n",
    "        largest_prime_factor = i\n",
    "print(\"Largest prime factors is: \" + str(largest_prime_factor))"
   ]
  }
 ],
 "metadata": {
  "kernelspec": {
   "display_name": "Python 3 (ipykernel)",
   "language": "python",
   "name": "python3"
  },
  "language_info": {
   "codemirror_mode": {
    "name": "ipython",
    "version": 3
   },
   "file_extension": ".py",
   "mimetype": "text/x-python",
   "name": "python",
   "nbconvert_exporter": "python",
   "pygments_lexer": "ipython3",
   "version": "3.11.5"
  }
 },
 "nbformat": 4,
 "nbformat_minor": 5
}
